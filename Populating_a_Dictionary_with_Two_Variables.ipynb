{
  "nbformat": 4,
  "nbformat_minor": 0,
  "metadata": {
    "colab": {
      "provenance": [],
      "authorship_tag": "ABX9TyNg1Gd9X7fI9B9OZLAlmdml",
      "include_colab_link": true
    },
    "kernelspec": {
      "name": "python3",
      "display_name": "Python 3"
    },
    "language_info": {
      "name": "python"
    }
  },
  "cells": [
    {
      "cell_type": "markdown",
      "metadata": {
        "id": "view-in-github",
        "colab_type": "text"
      },
      "source": [
        "<a href=\"https://colab.research.google.com/github/Pavelpeev1/BTE320-MIAMI/blob/main/Populating_a_Dictionary_with_Two_Variables.ipynb\" target=\"_parent\"><img src=\"https://colab.research.google.com/assets/colab-badge.svg\" alt=\"Open In Colab\"/></a>"
      ]
    },
    {
      "cell_type": "code",
      "execution_count": 3,
      "metadata": {
        "colab": {
          "base_uri": "https://localhost:8080/"
        },
        "id": "QiEV1gpU1oMR",
        "outputId": "ae088890-5c69-4cd9-a00a-5db4c8095004"
      },
      "outputs": [
        {
          "output_type": "stream",
          "name": "stdout",
          "text": [
            "1:Jan\n",
            "2:Feb\n",
            "3:Mar\n",
            "4:Apr\n",
            "5:May\n",
            "6:Jun\n",
            "7:Jul\n",
            "8:Aug\n",
            "9:Sep\n",
            "10:Oct\n",
            "11:Nov\n",
            "12:Dec\n"
          ]
        }
      ],
      "source": [
        "months = {1:\"Jan\", 2:\"Feb\", 3:\"Mar\", 4:\"Apr\", 5:\"May\", 6:\"Jun\", 7:\"Jul\", 8:\"Aug\", 9:\"Sep\", 10: \"Oct\", 11: \"Nov\", 12: \"Dec\"}\n",
        "for key in months:\n",
        "  print(f'{key}:{months[key]}')"
      ]
    }
  ]
}