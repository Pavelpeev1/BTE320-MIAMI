{
  "cells": [
    {
      "cell_type": "markdown",
      "metadata": {
        "id": "view-in-github",
        "colab_type": "text"
      },
      "source": [
        "<a href=\"https://colab.research.google.com/github/Pavelpeev1/BTE320-MIAMI/blob/main/Assingment_2_Code.ipynb\" target=\"_parent\"><img src=\"https://colab.research.google.com/assets/colab-badge.svg\" alt=\"Open In Colab\"/></a>"
      ]
    },
    {
      "cell_type": "markdown",
      "metadata": {
        "id": "yFqS6sjPLa2N"
      },
      "source": [
        "ASSIGNMENT #1"
      ]
    },
    {
      "cell_type": "code",
      "execution_count": null,
      "metadata": {
        "colab": {
          "base_uri": "https://localhost:8080/"
        },
        "id": "Wp51rOJDNsY-",
        "outputId": "2d094be9-7b36-43e3-df77-53809658379e"
      },
      "outputs": [
        {
          "name": "stdout",
          "output_type": "stream",
          "text": [
            "Enter the number of values: 5\n",
            "Enter value 1: 10\n",
            "Enter value 2: 15\n",
            "Enter value 3: 20\n",
            "Enter value 4: 25\n",
            "Enter value 5: 30\n",
            "Average excluding first two values: 25.0\n"
          ]
        }
      ],
      "source": [
        "def getValues(n):\n",
        "    values = []\n",
        "    for i in range(n):\n",
        "        value = float(input(f\"Enter value {i+1}: \"))\n",
        "        values.append(value)\n",
        "    return values\n",
        "\n",
        "def calcAverage(alist):\n",
        "    if len(alist) < 3:\n",
        "        return \"Insufficient values to calculate average\"\n",
        "    else:\n",
        "        return sum(alist[2:]) / (len(alist) - 2)\n",
        "\n",
        "# Main Program\n",
        "def main():\n",
        "  n = int(input(\"Enter the number of values: \"))\n",
        "  values = getValues(n)\n",
        "  average = calcAverage(values)\n",
        "  print(\"Average excluding first two values:\", average)\n",
        "\n",
        "main()\n"
      ]
    },
    {
      "cell_type": "markdown",
      "metadata": {
        "id": "B6eLICz51igg"
      },
      "source": [
        "ASSINGMENT #2"
      ]
    },
    {
      "cell_type": "code",
      "execution_count": null,
      "metadata": {
        "colab": {
          "background_save": true,
          "base_uri": "https://localhost:8080/"
        },
        "id": "E_hC0zFiYcN1",
        "outputId": "4e23b478-8aac-4b22-9934-b740593aa33e"
      },
      "outputs": [
        {
          "name": "stdout",
          "output_type": "stream",
          "text": [
            "US gdp = 19.39\n",
            "MX pop = 129.2\n",
            "Invalid country code. Please try again.\n"
          ]
        },
        {
          "ename": "KeyboardInterrupt",
          "evalue": "Interrupted by user",
          "output_type": "error",
          "traceback": [
            "\u001b[0;31m---------------------------------------------------------------------------\u001b[0m",
            "\u001b[0;31mKeyboardInterrupt\u001b[0m                         Traceback (most recent call last)",
            "\u001b[0;32m<ipython-input-14-80cafeb222e0>\u001b[0m in \u001b[0;36m<cell line: 7>\u001b[0;34m()\u001b[0m\n\u001b[1;32m      6\u001b[0m \u001b[0;34m\u001b[0m\u001b[0m\n\u001b[1;32m      7\u001b[0m \u001b[0;32mwhile\u001b[0m \u001b[0;32mTrue\u001b[0m\u001b[0;34m:\u001b[0m\u001b[0;34m\u001b[0m\u001b[0;34m\u001b[0m\u001b[0m\n\u001b[0;32m----> 8\u001b[0;31m     \u001b[0mcountry_code\u001b[0m \u001b[0;34m=\u001b[0m \u001b[0minput\u001b[0m\u001b[0;34m(\u001b[0m\u001b[0;34m\"Please enter a country code (US, CA, or MX): \"\u001b[0m\u001b[0;34m)\u001b[0m\u001b[0;34m\u001b[0m\u001b[0;34m\u001b[0m\u001b[0m\n\u001b[0m\u001b[1;32m      9\u001b[0m     \u001b[0;32mif\u001b[0m \u001b[0mcountry_code\u001b[0m \u001b[0;32mnot\u001b[0m \u001b[0;32min\u001b[0m \u001b[0mallData\u001b[0m\u001b[0;34m:\u001b[0m\u001b[0;34m\u001b[0m\u001b[0;34m\u001b[0m\u001b[0m\n\u001b[1;32m     10\u001b[0m         \u001b[0mprint\u001b[0m\u001b[0;34m(\u001b[0m\u001b[0;34m\"Invalid country code. Please try again.\"\u001b[0m\u001b[0;34m)\u001b[0m\u001b[0;34m\u001b[0m\u001b[0;34m\u001b[0m\u001b[0m\n",
            "\u001b[0;32m/usr/local/lib/python3.10/dist-packages/ipykernel/kernelbase.py\u001b[0m in \u001b[0;36mraw_input\u001b[0;34m(self, prompt)\u001b[0m\n\u001b[1;32m    849\u001b[0m                 \u001b[0;34m\"raw_input was called, but this frontend does not support input requests.\"\u001b[0m\u001b[0;34m\u001b[0m\u001b[0;34m\u001b[0m\u001b[0m\n\u001b[1;32m    850\u001b[0m             )\n\u001b[0;32m--> 851\u001b[0;31m         return self._input_request(str(prompt),\n\u001b[0m\u001b[1;32m    852\u001b[0m             \u001b[0mself\u001b[0m\u001b[0;34m.\u001b[0m\u001b[0m_parent_ident\u001b[0m\u001b[0;34m,\u001b[0m\u001b[0;34m\u001b[0m\u001b[0;34m\u001b[0m\u001b[0m\n\u001b[1;32m    853\u001b[0m             \u001b[0mself\u001b[0m\u001b[0;34m.\u001b[0m\u001b[0m_parent_header\u001b[0m\u001b[0;34m,\u001b[0m\u001b[0;34m\u001b[0m\u001b[0;34m\u001b[0m\u001b[0m\n",
            "\u001b[0;32m/usr/local/lib/python3.10/dist-packages/ipykernel/kernelbase.py\u001b[0m in \u001b[0;36m_input_request\u001b[0;34m(self, prompt, ident, parent, password)\u001b[0m\n\u001b[1;32m    893\u001b[0m             \u001b[0;32mexcept\u001b[0m \u001b[0mKeyboardInterrupt\u001b[0m\u001b[0;34m:\u001b[0m\u001b[0;34m\u001b[0m\u001b[0;34m\u001b[0m\u001b[0m\n\u001b[1;32m    894\u001b[0m                 \u001b[0;31m# re-raise KeyboardInterrupt, to truncate traceback\u001b[0m\u001b[0;34m\u001b[0m\u001b[0;34m\u001b[0m\u001b[0m\n\u001b[0;32m--> 895\u001b[0;31m                 \u001b[0;32mraise\u001b[0m \u001b[0mKeyboardInterrupt\u001b[0m\u001b[0;34m(\u001b[0m\u001b[0;34m\"Interrupted by user\"\u001b[0m\u001b[0;34m)\u001b[0m \u001b[0;32mfrom\u001b[0m \u001b[0;32mNone\u001b[0m\u001b[0;34m\u001b[0m\u001b[0;34m\u001b[0m\u001b[0m\n\u001b[0m\u001b[1;32m    896\u001b[0m             \u001b[0;32mexcept\u001b[0m \u001b[0mException\u001b[0m \u001b[0;32mas\u001b[0m \u001b[0me\u001b[0m\u001b[0;34m:\u001b[0m\u001b[0;34m\u001b[0m\u001b[0;34m\u001b[0m\u001b[0m\n\u001b[1;32m    897\u001b[0m                 \u001b[0mself\u001b[0m\u001b[0;34m.\u001b[0m\u001b[0mlog\u001b[0m\u001b[0;34m.\u001b[0m\u001b[0mwarning\u001b[0m\u001b[0;34m(\u001b[0m\u001b[0;34m\"Invalid Message:\"\u001b[0m\u001b[0;34m,\u001b[0m \u001b[0mexc_info\u001b[0m\u001b[0;34m=\u001b[0m\u001b[0;32mTrue\u001b[0m\u001b[0;34m)\u001b[0m\u001b[0;34m\u001b[0m\u001b[0;34m\u001b[0m\u001b[0m\n",
            "\u001b[0;31mKeyboardInterrupt\u001b[0m: Interrupted by user"
          ]
        }
      ],
      "source": [
        "allData = { # Values for Countries\n",
        "    'US': {'pop':325.7, 'gdp': 19.39, 'ccy': 'USD', 'fx':  1.0},\n",
        "    'CA': {'pop': 36.5, 'gdp':  1.65, 'ccy': 'CAD', 'fx':  1.35},\n",
        "    'MX': {'pop':129.2, 'gdp':  1.15, 'ccy': 'MXN', 'fx': 19.68}\n",
        "}\n",
        "\n",
        "while True:\n",
        "    country_code = input(\"Please enter a country code (US, CA, or MX): \")\n",
        "    if country_code not in allData:\n",
        "        print(\"Invalid country code. Please try again.\")\n",
        "        continue\n",
        "\n",
        "    measure_name = input(\"Please enter a statistic (pop, gdp, ccy, or fx): \")\n",
        "    if measure_name not in allData[country_code]:\n",
        "        print(\"Invalid measure name. Please try again.\")\n",
        "        continue\n",
        "\n",
        "# Main Program\n",
        "    value = allData[country_code][measure_name]\n",
        "    print(f\"{country_code} {measure_name} = {value}\")"
      ]
    },
    {
      "cell_type": "markdown",
      "metadata": {
        "id": "G35Y6-3l1v98"
      },
      "source": [
        "ASSINGMENT #3"
      ]
    },
    {
      "cell_type": "code",
      "execution_count": null,
      "metadata": {
        "colab": {
          "base_uri": "https://localhost:8080/"
        },
        "id": "XfxiB4aNZm6W",
        "outputId": "52e2ec0c-d9e5-4955-ad4f-6334d4b7b76b"
      },
      "outputs": [
        {
          "name": "stdout",
          "output_type": "stream",
          "text": [
            "How many hours do you wish to park? 7\n",
            "Total fee: $17.5\n"
          ]
        }
      ],
      "source": [
        "def getParkingHours():\n",
        " hours = int(input(\"How many hours do you wish to park? \"))\n",
        " return hours\n",
        "\n",
        "\n",
        "def calcParkingFee(h):\n",
        " fee = 2.5 * h\n",
        " if fee<=6:\n",
        "   return 6\n",
        " elif fee>=20:\n",
        "   return 20\n",
        " else:\n",
        "   return fee\n",
        "\n",
        "# Main Program\n",
        "hours = getParkingHours()\n",
        "fee = calcParkingFee(hours)\n",
        "print(f'Total fee: ${fee}')\n"
      ]
    },
    {
      "cell_type": "markdown",
      "metadata": {
        "id": "zceUHaJ614Wm"
      },
      "source": [
        "ASSINGMENT #4"
      ]
    },
    {
      "cell_type": "code",
      "execution_count": null,
      "metadata": {
        "colab": {
          "base_uri": "https://localhost:8080/"
        },
        "id": "KXsCP1MUaW9I",
        "outputId": "6681f9a0-8953-440b-9c62-b2ddbc6f4079"
      },
      "outputs": [
        {
          "name": "stdout",
          "output_type": "stream",
          "text": [
            "Enter the number of credits: 11\n",
            "Tuition for the semester: 19900\n"
          ]
        }
      ],
      "source": [
        "def calcTuition(credits):\n",
        "    if credits >= 12:\n",
        "        return 20000  # Tuition for 12 or more credits\n",
        "    else:\n",
        "        return 1200 + 1700 * credits  # Tuition for 1-11 credits\n",
        "\n",
        "# Main Program\n",
        "\n",
        "def main():\n",
        "  credits = int(input(\"Enter the number of credits: \"))\n",
        "  tuition = calcTuition(credits)\n",
        "  print(\"Tuition for the semester:\", tuition)\n",
        "\n",
        "main()\n"
      ]
    }
  ],
  "metadata": {
    "colab": {
      "provenance": [],
      "authorship_tag": "ABX9TyNHS0LlDHSF3cIkrhUEwxvO",
      "include_colab_link": true
    },
    "kernelspec": {
      "display_name": "Python 3",
      "name": "python3"
    },
    "language_info": {
      "name": "python"
    }
  },
  "nbformat": 4,
  "nbformat_minor": 0
}