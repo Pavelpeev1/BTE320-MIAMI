{
  "nbformat": 4,
  "nbformat_minor": 0,
  "metadata": {
    "colab": {
      "provenance": [],
      "authorship_tag": "ABX9TyOWlfVh8qzxjaSaT7M38X8K",
      "include_colab_link": true
    },
    "kernelspec": {
      "name": "python3",
      "display_name": "Python 3"
    },
    "language_info": {
      "name": "python"
    }
  },
  "cells": [
    {
      "cell_type": "markdown",
      "metadata": {
        "id": "view-in-github",
        "colab_type": "text"
      },
      "source": [
        "<a href=\"https://colab.research.google.com/github/Pavelpeev1/BTE320-MIAMI/blob/main/Calculator_Code.ipynb\" target=\"_parent\"><img src=\"https://colab.research.google.com/assets/colab-badge.svg\" alt=\"Open In Colab\"/></a>"
      ]
    },
    {
      "cell_type": "code",
      "execution_count": null,
      "metadata": {
        "colab": {
          "base_uri": "https://localhost:8080/"
        },
        "id": "MykUeuyg8PtG",
        "outputId": "a43033f0-0175-48e2-92b1-00c5061aaf16"
      },
      "outputs": [
        {
          "metadata": {
            "tags": null
          },
          "name": "stdout",
          "output_type": "stream",
          "text": [
            "Result: 20.0\n"
          ]
        }
      ],
      "source": [
        "while True:\n",
        "  num1 = float(input('Enter first value: '))\n",
        "  num2 = float(input('Enter second value: '))\n",
        "  operator = input('Entre the Operator: ')\n",
        "\n",
        "  if operator == 'break':\n",
        "    print('Goodbye!')\n",
        "    break\n",
        "\n",
        "  if operator == \"+\":\n",
        "    answer = num1 + num2\n",
        "  elif operator == \"-\":\n",
        "    answer = num1 - num2\n",
        "  elif operator == \"*\":\n",
        "    answer = num1 * num2\n",
        "  elif operator == \"/\":\n",
        "    answer = num1 / num2\n",
        "  elif operator == \"//\":\n",
        "    answer = num1 // num2\n",
        "  elif operator == \"**\":\n",
        "    answer = num1 ** num2\n",
        "  elif operator == \"%\":\n",
        "    answer = num1 % num2\n",
        "  else:\n",
        "    print('Invalid operator:', operator)\n",
        "    continue\n",
        "  print('Result:', answer)"
      ]
    }
  ]
}