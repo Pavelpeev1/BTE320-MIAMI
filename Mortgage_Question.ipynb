{
  "nbformat": 4,
  "nbformat_minor": 0,
  "metadata": {
    "colab": {
      "provenance": [],
      "authorship_tag": "ABX9TyP6cI0SLGuItdstt/zbZ87M",
      "include_colab_link": true
    },
    "kernelspec": {
      "name": "python3",
      "display_name": "Python 3"
    },
    "language_info": {
      "name": "python"
    }
  },
  "cells": [
    {
      "cell_type": "markdown",
      "metadata": {
        "id": "view-in-github",
        "colab_type": "text"
      },
      "source": [
        "<a href=\"https://colab.research.google.com/github/Pavelpeev1/BTE320-MIAMI/blob/main/Mortgage_Question.ipynb\" target=\"_parent\"><img src=\"https://colab.research.google.com/assets/colab-badge.svg\" alt=\"Open In Colab\"/></a>"
      ]
    },
    {
      "cell_type": "code",
      "source": [
        "class Mortgage:\n",
        "  def __init__(self, amount, maturity, interest):\n",
        "    self.amount = amount\n",
        "    self.maturity = maturity\n",
        "    self.__interest = interest\n",
        "\n",
        "def __str__(self):\n",
        "  return f'Mortage info:\\n Initial loan amount: {format(self.amount, \",.2f\")} $\\n Maturity term: {self.maturity} (years)\\n Interest rate: {self.__interest}%'\n",
        "\n",
        "def get_interest(self):\n",
        "  return self.__interest\n",
        "\n",
        "def set_interest(self, newinterest):\n",
        "  if newInterest >= 0:\n",
        "    self.__interest = newInterest\n",
        "  else:\n",
        "    print('Interest must be non-negative!')\n",
        "\n",
        "def payment(self):\n",
        "  B = self.amount\n",
        "  n = self.maturity\n",
        "  r = self.__inerest / 100\n",
        "\n",
        "  return B * (r * (1 + r) ** n) / ((1 + r) ** n - 1)"
      ],
      "metadata": {
        "id": "_hSNU-BWMQN_"
      },
      "execution_count": 1,
      "outputs": []
    },
    {
      "cell_type": "code",
      "source": [
        "m = Mortgage(100000, 30, 6)"
      ],
      "metadata": {
        "id": "VvygpJq_P8uC"
      },
      "execution_count": 2,
      "outputs": []
    },
    {
      "cell_type": "code",
      "source": [
        "print(m)"
      ],
      "metadata": {
        "colab": {
          "base_uri": "https://localhost:8080/"
        },
        "id": "GN1LZ3saOxW4",
        "outputId": "f871750d-495d-49a3-d0ac-ddb7681f539e"
      },
      "execution_count": 3,
      "outputs": [
        {
          "output_type": "stream",
          "name": "stdout",
          "text": [
            "<__main__.Mortgage object at 0x7e9386019b70>\n"
          ]
        }
      ]
    },
    {
      "cell_type": "code",
      "execution_count": 4,
      "metadata": {
        "id": "ccOut6sbGaTa"
      },
      "outputs": [],
      "source": [
        "class A:\n",
        "  def __init__(self, item):\n",
        "    self.item = item\n",
        "  def whoAmI(self):\n",
        "    print(\"I am an instance of Class A\")\n",
        "  def __str__(self):\n",
        "    return f'item: {self.item}'\n",
        "  def __add__(self,other):\n",
        "    return self.item + other.item\n",
        "\n",
        "class B:\n",
        "  def __init__(self, item):\n",
        "    self.item = item\n",
        "  def whoAmI(self):\n",
        "    print(\"I am an instance of Class B\")\n",
        "\n",
        "a1 = A(2)\n",
        "a2 = A(5)\n",
        "b = B(3)"
      ]
    },
    {
      "cell_type": "code",
      "source": [
        "b.whoAmI()"
      ],
      "metadata": {
        "colab": {
          "base_uri": "https://localhost:8080/"
        },
        "id": "yGhkTs_7HBfW",
        "outputId": "c3aedad2-bece-4c0c-e4c8-2511b54bdcf0"
      },
      "execution_count": null,
      "outputs": [
        {
          "output_type": "stream",
          "name": "stdout",
          "text": [
            "I am an instance of Class B\n"
          ]
        }
      ]
    },
    {
      "cell_type": "code",
      "source": [
        "print(a)"
      ],
      "metadata": {
        "colab": {
          "base_uri": "https://localhost:8080/"
        },
        "id": "GJ5jIQMaHkl5",
        "outputId": "024f75db-7154-46d3-a94e-32f0c00091ae"
      },
      "execution_count": null,
      "outputs": [
        {
          "output_type": "stream",
          "name": "stdout",
          "text": [
            "item: 2\n"
          ]
        }
      ]
    },
    {
      "cell_type": "code",
      "source": [
        "a1 + a2"
      ],
      "metadata": {
        "colab": {
          "base_uri": "https://localhost:8080/"
        },
        "id": "i9f520lQJUpc",
        "outputId": "4507056b-aabc-4037-fba8-8914bc2e4dc6"
      },
      "execution_count": null,
      "outputs": [
        {
          "output_type": "execute_result",
          "data": {
            "text/plain": [
              "7"
            ]
          },
          "metadata": {},
          "execution_count": 13
        }
      ]
    }
  ]
}