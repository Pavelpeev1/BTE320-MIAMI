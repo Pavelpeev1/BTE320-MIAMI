{
  "nbformat": 4,
  "nbformat_minor": 0,
  "metadata": {
    "colab": {
      "provenance": [],
      "authorship_tag": "ABX9TyMX3bAk91ZldNFhJrZK0Y9s",
      "include_colab_link": true
    },
    "kernelspec": {
      "name": "python3",
      "display_name": "Python 3"
    },
    "language_info": {
      "name": "python"
    }
  },
  "cells": [
    {
      "cell_type": "markdown",
      "metadata": {
        "id": "view-in-github",
        "colab_type": "text"
      },
      "source": [
        "<a href=\"https://colab.research.google.com/github/Pavelpeev1/BTE320-MIAMI/blob/main/Parking_Garage_Code.ipynb\" target=\"_parent\"><img src=\"https://colab.research.google.com/assets/colab-badge.svg\" alt=\"Open In Colab\"/></a>"
      ]
    },
    {
      "cell_type": "code",
      "execution_count": 1,
      "metadata": {
        "colab": {
          "base_uri": "https://localhost:8080/"
        },
        "id": "6_rPKE82DWEY",
        "outputId": "a04e1901-f0c2-4279-cfef-3bd8336a8170"
      },
      "outputs": [
        {
          "output_type": "stream",
          "name": "stdout",
          "text": [
            "How many hours do you wish to park? 3\n",
            "Total fee: $7.5\n"
          ]
        }
      ],
      "source": [
        "def getParkingHours():\n",
        " hours = int(input(\"How many hours do you wish to park? \"))\n",
        " return hours\n",
        "\n",
        "\n",
        "def calcParkingFee(h):\n",
        " fee = 2.5 * h\n",
        " if fee<=6:\n",
        "   return 6\n",
        " elif fee>=20:\n",
        "   return 20\n",
        " else:\n",
        "   return fee\n",
        "\n",
        "\n",
        "hours = getParkingHours()\n",
        "fee = calcParkingFee(hours)\n",
        "print(f'Total fee: ${fee}')"
      ]
    }
  ]
}