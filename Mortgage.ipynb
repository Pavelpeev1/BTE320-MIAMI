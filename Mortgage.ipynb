{
  "nbformat": 4,
  "nbformat_minor": 0,
  "metadata": {
    "colab": {
      "provenance": [],
      "authorship_tag": "ABX9TyOox6dR2AdISF+qgjXYBGoF",
      "include_colab_link": true
    },
    "kernelspec": {
      "name": "python3",
      "display_name": "Python 3"
    },
    "language_info": {
      "name": "python"
    }
  },
  "cells": [
    {
      "cell_type": "markdown",
      "metadata": {
        "id": "view-in-github",
        "colab_type": "text"
      },
      "source": [
        "<a href=\"https://colab.research.google.com/github/Pavelpeev1/BTE320-MIAMI/blob/main/Mortgage.ipynb\" target=\"_parent\"><img src=\"https://colab.research.google.com/assets/colab-badge.svg\" alt=\"Open In Colab\"/></a>"
      ]
    },
    {
      "cell_type": "code",
      "execution_count": 8,
      "metadata": {
        "id": "3R24RYemXmSh"
      },
      "outputs": [],
      "source": [
        "class Mortgage:\n",
        "  def __init__(self, intial, maturity, rate):\n",
        "    self.initial = initial\n",
        "    self.maturity = maturity\n",
        "    self.__rate = rate\n",
        "\n",
        "  def get_rate(self):\n",
        "    return self.__rate\n",
        "\n",
        "  def set_rate(self, newRate):\n",
        "    if newRate >= 0:\n",
        "      self.__rate = newRate\n",
        "    else:\n",
        "      print('Interest must be non-negative!')\n",
        "\n",
        "  def payment(self):\n",
        "    B = self.initial\n",
        "    n = self.maturity * 12\n",
        "    r = self.__rate / 100\n",
        "    return B * (r * (1 + r) ** n) / ((1 + r) ** n - 1)"
      ]
    },
    {
      "cell_type": "code",
      "source": [
        "m = Mortgage(100000, 30, 6)"
      ],
      "metadata": {
        "id": "LohYMGIEYnTZ"
      },
      "execution_count": null,
      "outputs": []
    },
    {
      "cell_type": "code",
      "source": [
        "m.payment()"
      ],
      "metadata": {
        "id": "iyPA6DiVY7I-"
      },
      "execution_count": null,
      "outputs": []
    },
    {
      "cell_type": "code",
      "source": [
        "m.set_rates(5)\n",
        "m.get_rate()"
      ],
      "metadata": {
        "id": "VdDEm8AqZTXd"
      },
      "execution_count": null,
      "outputs": []
    }
  ]
}