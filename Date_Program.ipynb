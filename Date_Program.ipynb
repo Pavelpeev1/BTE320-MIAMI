{
  "nbformat": 4,
  "nbformat_minor": 0,
  "metadata": {
    "colab": {
      "provenance": [],
      "authorship_tag": "ABX9TyMPBHXaozmGHRgeRMsyX1Rr",
      "include_colab_link": true
    },
    "kernelspec": {
      "name": "python3",
      "display_name": "Python 3"
    },
    "language_info": {
      "name": "python"
    }
  },
  "cells": [
    {
      "cell_type": "markdown",
      "metadata": {
        "id": "view-in-github",
        "colab_type": "text"
      },
      "source": [
        "<a href=\"https://colab.research.google.com/github/Pavelpeev1/BTE320-MIAMI/blob/main/Date_Program.ipynb\" target=\"_parent\"><img src=\"https://colab.research.google.com/assets/colab-badge.svg\" alt=\"Open In Colab\"/></a>"
      ]
    },
    {
      "cell_type": "code",
      "execution_count": 1,
      "metadata": {
        "colab": {
          "base_uri": "https://localhost:8080/"
        },
        "id": "Im3uPEh3-Qy1",
        "outputId": "fcfdb08f-6636-47a3-999a-9ab9b97bf14f"
      },
      "outputs": [
        {
          "output_type": "stream",
          "name": "stdout",
          "text": [
            "enter date: MM/DD/YYYY04/23/2024\n",
            "04\n",
            "23\n",
            "2024\n"
          ]
        }
      ],
      "source": [
        "s = input(\"enter date: MM/DD/YYYY\")\n",
        "month_s = s[0:2]\n",
        "print(month_s)\n",
        "day_s = s[3:5]\n",
        "print(day_s)\n",
        "year_s = s[-4:len(s)]\n",
        "print(year_s)"
      ]
    }
  ]
}