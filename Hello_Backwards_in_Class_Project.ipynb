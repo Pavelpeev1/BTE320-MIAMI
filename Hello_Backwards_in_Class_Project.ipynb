{
  "nbformat": 4,
  "nbformat_minor": 0,
  "metadata": {
    "colab": {
      "provenance": [],
      "authorship_tag": "ABX9TyP5v75wPsXmt83vDnejvk5/",
      "include_colab_link": true
    },
    "kernelspec": {
      "name": "python3",
      "display_name": "Python 3"
    },
    "language_info": {
      "name": "python"
    }
  },
  "cells": [
    {
      "cell_type": "markdown",
      "metadata": {
        "id": "view-in-github",
        "colab_type": "text"
      },
      "source": [
        "<a href=\"https://colab.research.google.com/github/Pavelpeev1/BTE320-MIAMI/blob/main/Hello_Backwards_in_Class_Project.ipynb\" target=\"_parent\"><img src=\"https://colab.research.google.com/assets/colab-badge.svg\" alt=\"Open In Colab\"/></a>"
      ]
    },
    {
      "cell_type": "code",
      "execution_count": 3,
      "metadata": {
        "colab": {
          "base_uri": "https://localhost:8080/"
        },
        "id": "JSnK24yvX9bq",
        "outputId": "a2681239-b2ca-4602-8042-5c0fbaacb4bb"
      },
      "outputs": [
        {
          "output_type": "stream",
          "name": "stdout",
          "text": [
            "olleh\n"
          ]
        }
      ],
      "source": [
        "def factR(n):\n",
        "    if n == 1:\n",
        "      return 1\n",
        "    else:\n",
        "      return n * factR(n-1)\n",
        "\n",
        "\n",
        "\n",
        "def hello_transformation(hello):\n",
        "    word = \"hello\"\n",
        "    backwards_word = word[::-1]\n",
        "    print(backwards_word)\n",
        "\n",
        "hello_transformation(\"hello\")"
      ]
    }
  ]
}